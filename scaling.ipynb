{
 "cells": [
  {
   "cell_type": "code",
   "execution_count": 53,
   "metadata": {},
   "outputs": [],
   "source": [
    "import matplotlib.pyplot as plt\n",
    "\n",
    "from scipy import stats\n",
    "import sklearn.preprocessing\n",
    "from sklearn.model_selection import train_test_split\n",
    "\n",
    "import numpy as np\n",
    "import pandas as pd\n",
    "\n",
    "import warnings\n",
    "warnings.filterwarnings(\"ignore\")\n",
    "\n",
    "from wrangle import wrangle_telco\n",
    "import prepare"
   ]
  },
  {
   "cell_type": "code",
   "execution_count": 54,
   "metadata": {},
   "outputs": [
    {
     "data": {
      "text/html": [
       "<div>\n",
       "<style scoped>\n",
       "    .dataframe tbody tr th:only-of-type {\n",
       "        vertical-align: middle;\n",
       "    }\n",
       "\n",
       "    .dataframe tbody tr th {\n",
       "        vertical-align: top;\n",
       "    }\n",
       "\n",
       "    .dataframe thead th {\n",
       "        text-align: right;\n",
       "    }\n",
       "</style>\n",
       "<table border=\"1\" class=\"dataframe\">\n",
       "  <thead>\n",
       "    <tr style=\"text-align: right;\">\n",
       "      <th></th>\n",
       "      <th>monthly_charges</th>\n",
       "      <th>tenure</th>\n",
       "      <th>total_charges</th>\n",
       "    </tr>\n",
       "  </thead>\n",
       "  <tbody>\n",
       "    <tr>\n",
       "      <th>0</th>\n",
       "      <td>109.70</td>\n",
       "      <td>71</td>\n",
       "      <td>7904.25</td>\n",
       "    </tr>\n",
       "    <tr>\n",
       "      <th>1</th>\n",
       "      <td>84.65</td>\n",
       "      <td>63</td>\n",
       "      <td>5377.80</td>\n",
       "    </tr>\n",
       "    <tr>\n",
       "      <th>2</th>\n",
       "      <td>90.45</td>\n",
       "      <td>65</td>\n",
       "      <td>5957.90</td>\n",
       "    </tr>\n",
       "    <tr>\n",
       "      <th>3</th>\n",
       "      <td>45.20</td>\n",
       "      <td>54</td>\n",
       "      <td>2460.55</td>\n",
       "    </tr>\n",
       "    <tr>\n",
       "      <th>4</th>\n",
       "      <td>116.80</td>\n",
       "      <td>72</td>\n",
       "      <td>8456.75</td>\n",
       "    </tr>\n",
       "  </tbody>\n",
       "</table>\n",
       "</div>"
      ],
      "text/plain": [
       "   monthly_charges  tenure  total_charges\n",
       "0           109.70      71        7904.25\n",
       "1            84.65      63        5377.80\n",
       "2            90.45      65        5957.90\n",
       "3            45.20      54        2460.55\n",
       "4           116.80      72        8456.75"
      ]
     },
     "execution_count": 54,
     "metadata": {},
     "output_type": "execute_result"
    }
   ],
   "source": [
    "df = wrangle_telco()\n",
    "df.head()"
   ]
  },
  {
   "cell_type": "code",
   "execution_count": 55,
   "metadata": {},
   "outputs": [
    {
     "data": {
      "text/html": [
       "<div>\n",
       "<style scoped>\n",
       "    .dataframe tbody tr th:only-of-type {\n",
       "        vertical-align: middle;\n",
       "    }\n",
       "\n",
       "    .dataframe tbody tr th {\n",
       "        vertical-align: top;\n",
       "    }\n",
       "\n",
       "    .dataframe thead th {\n",
       "        text-align: right;\n",
       "    }\n",
       "</style>\n",
       "<table border=\"1\" class=\"dataframe\">\n",
       "  <thead>\n",
       "    <tr style=\"text-align: right;\">\n",
       "      <th></th>\n",
       "      <th>count</th>\n",
       "      <th>mean</th>\n",
       "      <th>std</th>\n",
       "      <th>min</th>\n",
       "      <th>25%</th>\n",
       "      <th>50%</th>\n",
       "      <th>75%</th>\n",
       "      <th>max</th>\n",
       "    </tr>\n",
       "  </thead>\n",
       "  <tbody>\n",
       "    <tr>\n",
       "      <th>monthly_charges</th>\n",
       "      <td>1695.0</td>\n",
       "      <td>60.770413</td>\n",
       "      <td>34.678865</td>\n",
       "      <td>18.4</td>\n",
       "      <td>24.025</td>\n",
       "      <td>64.35</td>\n",
       "      <td>90.45</td>\n",
       "      <td>118.75</td>\n",
       "    </tr>\n",
       "    <tr>\n",
       "      <th>tenure</th>\n",
       "      <td>1695.0</td>\n",
       "      <td>56.735103</td>\n",
       "      <td>18.209363</td>\n",
       "      <td>0.0</td>\n",
       "      <td>48.000</td>\n",
       "      <td>64.00</td>\n",
       "      <td>71.00</td>\n",
       "      <td>72.00</td>\n",
       "    </tr>\n",
       "    <tr>\n",
       "      <th>total_charges</th>\n",
       "      <td>1695.0</td>\n",
       "      <td>3706.934336</td>\n",
       "      <td>2579.517834</td>\n",
       "      <td>0.0</td>\n",
       "      <td>1269.675</td>\n",
       "      <td>3593.80</td>\n",
       "      <td>5988.80</td>\n",
       "      <td>8672.45</td>\n",
       "    </tr>\n",
       "  </tbody>\n",
       "</table>\n",
       "</div>"
      ],
      "text/plain": [
       "                  count         mean          std   min       25%      50%  \\\n",
       "monthly_charges  1695.0    60.770413    34.678865  18.4    24.025    64.35   \n",
       "tenure           1695.0    56.735103    18.209363   0.0    48.000    64.00   \n",
       "total_charges    1695.0  3706.934336  2579.517834   0.0  1269.675  3593.80   \n",
       "\n",
       "                     75%      max  \n",
       "monthly_charges    90.45   118.75  \n",
       "tenure             71.00    72.00  \n",
       "total_charges    5988.80  8672.45  "
      ]
     },
     "execution_count": 55,
     "metadata": {},
     "output_type": "execute_result"
    }
   ],
   "source": [
    "df.describe().T"
   ]
  },
  {
   "cell_type": "code",
   "execution_count": 56,
   "metadata": {},
   "outputs": [
    {
     "data": {
      "text/plain": [
       "((1312, 3), (204, 3), (179, 3))"
      ]
     },
     "execution_count": 56,
     "metadata": {},
     "output_type": "execute_result"
    }
   ],
   "source": [
    "def telco_split(df):\n",
    "    train_and_validate, test = train_test_split(df, test_size=.12, random_state=123)\n",
    "    train, validate = train_test_split(train_and_validate, test_size=.12, random_state=123)\n",
    "    return train, validate, test\n",
    "\n",
    "train, validate, test = telco_split(df)\n",
    "\n",
    "train.shape, test.shape, validate.shape"
   ]
  },
  {
   "cell_type": "markdown",
   "metadata": {},
   "source": [
    "1. Apply the scalers we talked about in this lesson to your data and visualize the results in a way you find helpful."
   ]
  },
  {
   "cell_type": "markdown",
   "metadata": {},
   "source": [
    "#### Min-Max Scaler"
   ]
  },
  {
   "cell_type": "code",
   "execution_count": 57,
   "metadata": {},
   "outputs": [
    {
     "data": {
      "text/html": [
       "<div>\n",
       "<style scoped>\n",
       "    .dataframe tbody tr th:only-of-type {\n",
       "        vertical-align: middle;\n",
       "    }\n",
       "\n",
       "    .dataframe tbody tr th {\n",
       "        vertical-align: top;\n",
       "    }\n",
       "\n",
       "    .dataframe thead th {\n",
       "        text-align: right;\n",
       "    }\n",
       "</style>\n",
       "<table border=\"1\" class=\"dataframe\">\n",
       "  <thead>\n",
       "    <tr style=\"text-align: right;\">\n",
       "      <th></th>\n",
       "      <th>monthly_charges</th>\n",
       "      <th>tenure</th>\n",
       "      <th>total_charges</th>\n",
       "      <th>total_charges_scaled</th>\n",
       "    </tr>\n",
       "  </thead>\n",
       "  <tbody>\n",
       "    <tr>\n",
       "      <th>1529</th>\n",
       "      <td>100.20</td>\n",
       "      <td>71</td>\n",
       "      <td>7209.00</td>\n",
       "      <td>0.831253</td>\n",
       "    </tr>\n",
       "    <tr>\n",
       "      <th>1420</th>\n",
       "      <td>81.65</td>\n",
       "      <td>45</td>\n",
       "      <td>3618.70</td>\n",
       "      <td>0.417264</td>\n",
       "    </tr>\n",
       "    <tr>\n",
       "      <th>949</th>\n",
       "      <td>81.00</td>\n",
       "      <td>46</td>\n",
       "      <td>3846.35</td>\n",
       "      <td>0.443514</td>\n",
       "    </tr>\n",
       "    <tr>\n",
       "      <th>142</th>\n",
       "      <td>111.25</td>\n",
       "      <td>71</td>\n",
       "      <td>7984.15</td>\n",
       "      <td>0.920634</td>\n",
       "    </tr>\n",
       "    <tr>\n",
       "      <th>551</th>\n",
       "      <td>21.25</td>\n",
       "      <td>30</td>\n",
       "      <td>711.90</td>\n",
       "      <td>0.082088</td>\n",
       "    </tr>\n",
       "  </tbody>\n",
       "</table>\n",
       "</div>"
      ],
      "text/plain": [
       "      monthly_charges  tenure  total_charges  total_charges_scaled\n",
       "1529           100.20      71        7209.00              0.831253\n",
       "1420            81.65      45        3618.70              0.417264\n",
       "949             81.00      46        3846.35              0.443514\n",
       "142            111.25      71        7984.15              0.920634\n",
       "551             21.25      30         711.90              0.082088"
      ]
     },
     "execution_count": 57,
     "metadata": {},
     "output_type": "execute_result"
    }
   ],
   "source": [
    "# 1. create the object\n",
    "scaler = sklearn.preprocessing.MinMaxScaler()\n",
    "\n",
    "# 2. fit the object\n",
    "scaler.fit(telco[['total_charges']])\n",
    "\n",
    "# 3. use the object\n",
    "train['total_charges_scaled'] = scaler.transform(train[['total_charges']])\n",
    "test['total_charges_scaled'] = scaler.transform(test[['total_charges']])\n",
    "validate['total_charges_scaled'] = scaler.transform(validate[['total_charges']])\n",
    "train.head()"
   ]
  },
  {
   "cell_type": "code",
   "execution_count": 58,
   "metadata": {},
   "outputs": [
    {
     "data": {
      "text/plain": [
       "<matplotlib.axes._subplots.AxesSubplot at 0x7ff8c2b190d0>"
      ]
     },
     "execution_count": 58,
     "metadata": {},
     "output_type": "execute_result"
    },
    {
     "data": {
      "image/png": "[encoded data removed]",
      "text/plain": [
       "<Figure size 936x432 with 2 Axes>"
      ]
     },
     "metadata": {
      "needs_background": "light"
     },
     "output_type": "display_data"
    }
   ],
   "source": [
    "plt.figure(figsize=(13, 6))\n",
    "plt.subplot(121)\n",
    "train.total_charges.plot.hist(title='Original')\n",
    "plt.subplot(122)\n",
    "train.total_charges_scaled.plot.hist(title='Min-Max Scaled')"
   ]
  },
  {
   "cell_type": "markdown",
   "metadata": {},
   "source": [
    "2. Apply the `.inverse_transform` method to your scaled data. Is the resulting dataset the exact same as the original data?"
   ]
  },
  {
   "cell_type": "code",
   "execution_count": 59,
   "metadata": {},
   "outputs": [
    {
     "data": {
      "text/plain": [
       "array([[7209.  ],\n",
       "       [3618.7 ],\n",
       "       [3846.35],\n",
       "       ...,\n",
       "       [1050.5 ],\n",
       "       [6362.35],\n",
       "       [6093.3 ]])"
      ]
     },
     "execution_count": 59,
     "metadata": {},
     "output_type": "execute_result"
    }
   ],
   "source": [
    "scaler.inverse_transform(train[['total_charges_scaled']])"
   ]
  },
  {
   "cell_type": "markdown",
   "metadata": {},
   "source": [
    "3. Read the documentation for sklearn's `QuantileTransformer`. Use `normal` for the `output_distribution` and apply this scaler to your data. Visualize the result of your data scaling."
   ]
  },
  {
   "cell_type": "markdown",
   "metadata": {},
   "source": [
    "#### Quantile Scaler (non-linear)"
   ]
  },
  {
   "cell_type": "code",
   "execution_count": 30,
   "metadata": {},
   "outputs": [
    {
     "data": {
      "text/html": [
       "<div>\n",
       "<style scoped>\n",
       "    .dataframe tbody tr th:only-of-type {\n",
       "        vertical-align: middle;\n",
       "    }\n",
       "\n",
       "    .dataframe tbody tr th {\n",
       "        vertical-align: top;\n",
       "    }\n",
       "\n",
       "    .dataframe thead th {\n",
       "        text-align: right;\n",
       "    }\n",
       "</style>\n",
       "<table border=\"1\" class=\"dataframe\">\n",
       "  <thead>\n",
       "    <tr style=\"text-align: right;\">\n",
       "      <th></th>\n",
       "      <th>monthly_charges</th>\n",
       "      <th>tenure</th>\n",
       "      <th>total_charges</th>\n",
       "      <th>total_charges_scaled</th>\n",
       "    </tr>\n",
       "  </thead>\n",
       "  <tbody>\n",
       "    <tr>\n",
       "      <th>1529</th>\n",
       "      <td>100.20</td>\n",
       "      <td>71</td>\n",
       "      <td>7209.00</td>\n",
       "      <td>1.195280</td>\n",
       "    </tr>\n",
       "    <tr>\n",
       "      <th>1420</th>\n",
       "      <td>81.65</td>\n",
       "      <td>45</td>\n",
       "      <td>3618.70</td>\n",
       "      <td>0.016247</td>\n",
       "    </tr>\n",
       "    <tr>\n",
       "      <th>949</th>\n",
       "      <td>81.00</td>\n",
       "      <td>46</td>\n",
       "      <td>3846.35</td>\n",
       "      <td>0.061586</td>\n",
       "    </tr>\n",
       "    <tr>\n",
       "      <th>142</th>\n",
       "      <td>111.25</td>\n",
       "      <td>71</td>\n",
       "      <td>7984.15</td>\n",
       "      <td>1.711518</td>\n",
       "    </tr>\n",
       "    <tr>\n",
       "      <th>551</th>\n",
       "      <td>21.25</td>\n",
       "      <td>30</td>\n",
       "      <td>711.90</td>\n",
       "      <td>-1.291714</td>\n",
       "    </tr>\n",
       "  </tbody>\n",
       "</table>\n",
       "</div>"
      ],
      "text/plain": [
       "      monthly_charges  tenure  total_charges  total_charges_scaled\n",
       "1529           100.20      71        7209.00              1.195280\n",
       "1420            81.65      45        3618.70              0.016247\n",
       "949             81.00      46        3846.35              0.061586\n",
       "142            111.25      71        7984.15              1.711518\n",
       "551             21.25      30         711.90             -1.291714"
      ]
     },
     "execution_count": 30,
     "metadata": {},
     "output_type": "execute_result"
    }
   ],
   "source": [
    "# 1. create the object\n",
    "scaler = sklearn.preprocessing.QuantileTransformer(output_distribution='normal')\n",
    "# 2. fit the object\n",
    "scaler.fit(train[['total_charges']])\n",
    "# 3. use the object\n",
    "train['total_charges_scaled'] = scaler.transform(train[['total_charges']])\n",
    "test['total_charges_scaled'] = scaler.transform(test[['total_charges']])\n",
    "validate['total_charges_scaled'] = scaler.transform(validate[['total_charges']])\n",
    "train.head()"
   ]
  },
  {
   "cell_type": "code",
   "execution_count": 32,
   "metadata": {},
   "outputs": [
    {
     "data": {
      "text/plain": [
       "<matplotlib.axes._subplots.AxesSubplot at 0x7ff8bd86d750>"
      ]
     },
     "execution_count": 32,
     "metadata": {},
     "output_type": "execute_result"
    },
    {
     "data": {
      "image/png": "[encoded data removed]",
      "text/plain": [
       "<Figure size 936x432 with 2 Axes>"
      ]
     },
     "metadata": {
      "needs_background": "light"
     },
     "output_type": "display_data"
    }
   ],
   "source": [
    "plt.figure(figsize=(13, 6))\n",
    "plt.subplot(121)\n",
    "train.total_charges.plot.hist(title='Original')\n",
    "plt.subplot(122)\n",
    "train.total_charges_scaled.plot.hist(title='Quantile Transformed to Normal')"
   ]
  },
  {
   "cell_type": "markdown",
   "metadata": {},
   "source": [
    "4. Use the `QuantileTransformer`, but omit the `output_distribution` argument. Visualize your results. What do you notice?"
   ]
  },
  {
   "cell_type": "code",
   "execution_count": 33,
   "metadata": {},
   "outputs": [
    {
     "data": {
      "text/plain": [
       "<matplotlib.axes._subplots.AxesSubplot at 0x7ff8c26897d0>"
      ]
     },
     "execution_count": 33,
     "metadata": {},
     "output_type": "execute_result"
    },
    {
     "data": {
      "image/png": "[encoded data removed]",
      "text/plain": [
       "<Figure size 936x432 with 2 Axes>"
      ]
     },
     "metadata": {
      "needs_background": "light"
     },
     "output_type": "display_data"
    }
   ],
   "source": [
    "# 1. create the object\n",
    "scaler = sklearn.preprocessing.QuantileTransformer()\n",
    "# 2. fit the object\n",
    "scaler.fit(train[['total_charges']])\n",
    "# 3. use the object\n",
    "train['total_charges_scaled'] = scaler.transform(train[['total_charges']])\n",
    "test['total_charges_scaled'] = scaler.transform(test[['total_charges']])\n",
    "validate['total_charges_scaled'] = scaler.transform(validate[['total_charges']])\n",
    "\n",
    "plt.figure(figsize=(13, 6))\n",
    "plt.subplot(121)\n",
    "train.total_charges.plot.hist(title='Original')\n",
    "plt.subplot(122)\n",
    "train.total_charges_scaled.plot.hist(title='Quantile Transformed (no output_distrubution argument)')"
   ]
  },
  {
   "cell_type": "markdown",
   "metadata": {},
   "source": [
    "5. Based on the work you've done, choose a scaling method for your dataset. Write a function within your `prepare.py` that accepts as input the train, validate, and test data splits, and returns the scaled versions of each. Be sure to only learn the parameters for scaling from your training data!"
   ]
  },
  {
   "cell_type": "code",
   "execution_count": 40,
   "metadata": {},
   "outputs": [],
   "source": [
    "def add_scaled_columns(train, validate, test, scaler, columns_to_scale):\n",
    "    new_column_names = [c + '_scales' for c in columns_to_scale]\n",
    "    scaler.fit(train[columns_to_scale])\n",
    "    \n",
    "    train = pd.concat([\n",
    "        train, pd.DataFrame(scaler.transform(train[columns_to_scale]), \n",
    "                            columns=new_column_names, \n",
    "                            index=train.index),], axis=1)\n",
    "    validate = pd.concat([\n",
    "        validate, pd.DataFrame(scaler.transform(validate[columns_to_scale]), \n",
    "                            columns=new_column_names, \n",
    "                            index=validate.index),], axis=1)\n",
    "    test = pd.concat([\n",
    "        test, pd.DataFrame(scaler.transform(test[columns_to_scale]), \n",
    "                            columns=new_column_names, \n",
    "                            index=test.index),], axis=1)\n",
    "    return train, validate, test"
   ]
  },
  {
   "cell_type": "code",
   "execution_count": 41,
   "metadata": {},
   "outputs": [
    {
     "data": {
      "text/html": [
       "<div>\n",
       "<style scoped>\n",
       "    .dataframe tbody tr th:only-of-type {\n",
       "        vertical-align: middle;\n",
       "    }\n",
       "\n",
       "    .dataframe tbody tr th {\n",
       "        vertical-align: top;\n",
       "    }\n",
       "\n",
       "    .dataframe thead th {\n",
       "        text-align: right;\n",
       "    }\n",
       "</style>\n",
       "<table border=\"1\" class=\"dataframe\">\n",
       "  <thead>\n",
       "    <tr style=\"text-align: right;\">\n",
       "      <th></th>\n",
       "      <th>monthly_charges</th>\n",
       "      <th>tenure</th>\n",
       "      <th>total_charges</th>\n",
       "      <th>monthly_charges_scales</th>\n",
       "      <th>total_charges_scales</th>\n",
       "      <th>tenure_scales</th>\n",
       "    </tr>\n",
       "  </thead>\n",
       "  <tbody>\n",
       "    <tr>\n",
       "      <th>1529</th>\n",
       "      <td>100.20</td>\n",
       "      <td>71</td>\n",
       "      <td>7209.00</td>\n",
       "      <td>0.814870</td>\n",
       "      <td>0.831253</td>\n",
       "      <td>0.986111</td>\n",
       "    </tr>\n",
       "    <tr>\n",
       "      <th>1420</th>\n",
       "      <td>81.65</td>\n",
       "      <td>45</td>\n",
       "      <td>3618.70</td>\n",
       "      <td>0.629741</td>\n",
       "      <td>0.417264</td>\n",
       "      <td>0.625000</td>\n",
       "    </tr>\n",
       "    <tr>\n",
       "      <th>949</th>\n",
       "      <td>81.00</td>\n",
       "      <td>46</td>\n",
       "      <td>3846.35</td>\n",
       "      <td>0.623253</td>\n",
       "      <td>0.443514</td>\n",
       "      <td>0.638889</td>\n",
       "    </tr>\n",
       "    <tr>\n",
       "      <th>142</th>\n",
       "      <td>111.25</td>\n",
       "      <td>71</td>\n",
       "      <td>7984.15</td>\n",
       "      <td>0.925150</td>\n",
       "      <td>0.920634</td>\n",
       "      <td>0.986111</td>\n",
       "    </tr>\n",
       "    <tr>\n",
       "      <th>551</th>\n",
       "      <td>21.25</td>\n",
       "      <td>30</td>\n",
       "      <td>711.90</td>\n",
       "      <td>0.026946</td>\n",
       "      <td>0.082088</td>\n",
       "      <td>0.416667</td>\n",
       "    </tr>\n",
       "  </tbody>\n",
       "</table>\n",
       "</div>"
      ],
      "text/plain": [
       "      monthly_charges  tenure  total_charges  monthly_charges_scales  \\\n",
       "1529           100.20      71        7209.00                0.814870   \n",
       "1420            81.65      45        3618.70                0.629741   \n",
       "949             81.00      46        3846.35                0.623253   \n",
       "142            111.25      71        7984.15                0.925150   \n",
       "551             21.25      30         711.90                0.026946   \n",
       "\n",
       "      total_charges_scales  tenure_scales  \n",
       "1529              0.831253       0.986111  \n",
       "1420              0.417264       0.625000  \n",
       "949               0.443514       0.638889  \n",
       "142               0.920634       0.986111  \n",
       "551               0.082088       0.416667  "
      ]
     },
     "execution_count": 41,
     "metadata": {},
     "output_type": "execute_result"
    }
   ],
   "source": [
    "#manual function call\n",
    "train, validate, test = add_scaled_columns(\n",
    "    train,\n",
    "    validate,\n",
    "    test,\n",
    "    scaler=sklearn.preprocessing.MinMaxScaler(),\n",
    "    columns_to_scale=['monthly_charges', 'total_charges', 'tenure'],\n",
    ")\n",
    "train.head()"
   ]
  },
  {
   "cell_type": "code",
   "execution_count": 51,
   "metadata": {},
   "outputs": [
    {
     "data": {
      "text/html": [
       "<div>\n",
       "<style scoped>\n",
       "    .dataframe tbody tr th:only-of-type {\n",
       "        vertical-align: middle;\n",
       "    }\n",
       "\n",
       "    .dataframe tbody tr th {\n",
       "        vertical-align: top;\n",
       "    }\n",
       "\n",
       "    .dataframe thead th {\n",
       "        text-align: right;\n",
       "    }\n",
       "</style>\n",
       "<table border=\"1\" class=\"dataframe\">\n",
       "  <thead>\n",
       "    <tr style=\"text-align: right;\">\n",
       "      <th></th>\n",
       "      <th>monthly_charges</th>\n",
       "      <th>tenure</th>\n",
       "      <th>total_charges</th>\n",
       "      <th>monthly_charges_scales</th>\n",
       "      <th>tenure_scales</th>\n",
       "      <th>total_charges_scales</th>\n",
       "    </tr>\n",
       "  </thead>\n",
       "  <tbody>\n",
       "    <tr>\n",
       "      <th>1529</th>\n",
       "      <td>100.20</td>\n",
       "      <td>71</td>\n",
       "      <td>7209.00</td>\n",
       "      <td>0.814870</td>\n",
       "      <td>0.986111</td>\n",
       "      <td>0.831253</td>\n",
       "    </tr>\n",
       "    <tr>\n",
       "      <th>1420</th>\n",
       "      <td>81.65</td>\n",
       "      <td>45</td>\n",
       "      <td>3618.70</td>\n",
       "      <td>0.629741</td>\n",
       "      <td>0.625000</td>\n",
       "      <td>0.417264</td>\n",
       "    </tr>\n",
       "    <tr>\n",
       "      <th>949</th>\n",
       "      <td>81.00</td>\n",
       "      <td>46</td>\n",
       "      <td>3846.35</td>\n",
       "      <td>0.623253</td>\n",
       "      <td>0.638889</td>\n",
       "      <td>0.443514</td>\n",
       "    </tr>\n",
       "    <tr>\n",
       "      <th>142</th>\n",
       "      <td>111.25</td>\n",
       "      <td>71</td>\n",
       "      <td>7984.15</td>\n",
       "      <td>0.925150</td>\n",
       "      <td>0.986111</td>\n",
       "      <td>0.920634</td>\n",
       "    </tr>\n",
       "    <tr>\n",
       "      <th>551</th>\n",
       "      <td>21.25</td>\n",
       "      <td>30</td>\n",
       "      <td>711.90</td>\n",
       "      <td>0.026946</td>\n",
       "      <td>0.416667</td>\n",
       "      <td>0.082088</td>\n",
       "    </tr>\n",
       "  </tbody>\n",
       "</table>\n",
       "</div>"
      ],
      "text/plain": [
       "      monthly_charges  tenure  total_charges  monthly_charges_scales  \\\n",
       "1529           100.20      71        7209.00                0.814870   \n",
       "1420            81.65      45        3618.70                0.629741   \n",
       "949             81.00      46        3846.35                0.623253   \n",
       "142            111.25      71        7984.15                0.925150   \n",
       "551             21.25      30         711.90                0.026946   \n",
       "\n",
       "      tenure_scales  total_charges_scales  \n",
       "1529       0.986111              0.831253  \n",
       "1420       0.625000              0.417264  \n",
       "949        0.638889              0.443514  \n",
       "142        0.986111              0.920634  \n",
       "551        0.416667              0.082088  "
      ]
     },
     "execution_count": 51,
     "metadata": {},
     "output_type": "execute_result"
    }
   ],
   "source": [
    "#add scaled datasets (train,test, validate) from prepare file\n",
    "train, validate, test = prepare.scale_telco_data()\n",
    "train.head()"
   ]
  },
  {
   "cell_type": "code",
   "execution_count": null,
   "metadata": {},
   "outputs": [],
   "source": []
  }
 ],
 "metadata": {
  "kernelspec": {
   "display_name": "Python 3",
   "language": "python",
   "name": "python3"
  },
  "language_info": {
   "codemirror_mode": {
    "name": "ipython",
    "version": 3
   },
   "file_extension": ".py",
   "mimetype": "text/x-python",
   "name": "python",
   "nbconvert_exporter": "python",
   "pygments_lexer": "ipython3",
   "version": "3.7.6"
  }
 },
 "nbformat": 4,
 "nbformat_minor": 4
}
