{
 "cells": [
  {
   "cell_type": "markdown",
   "metadata": {},
   "source": [
    "It's another day at the office at Big Research Co ™. You look up from your laptop and see a woman in a lab coat standing in front of your desk.\n",
    "\n",
    "\"I need some help\" she says. \"We lost some subjects from the trial.\"\n",
    "\n",
    "She notices a curious look on your face.\n",
    "\n",
    "\"Not like that, they just ran away. We didn't lock the doors soon enough.\"\n",
    "\n",
    "\"Anyway, there's probably like a 70%, no maybe 80%, no, let's say 90% chance that a given subject will stick around, and I need to run the study again with 10, or 20 subjects. We need to gather enough data on them to justify the cost, so I need you to figure out what are the probabilities are that at least half of them stick around, only 1 person leaves, and that all the subjects stay.\"\n",
    "\n",
    "She sees you start to form another question and cuts you off.\n",
    "\n",
    "\"Don't ask. You really don't want to know.\""
   ]
  },
  {
   "cell_type": "markdown",
   "metadata": {},
   "source": [
    "--- \n",
    "- What probability distribution would you use to model the scenario outlined above?\n",
    "- Calculate all the requested probabilities. Use all the possible combinations of subject count and chance that a subject will stay in the study.\n",
    "- **Bonus**: visualize the requested probabilities.\n",
    "\n",
    "### Hints"
   ]
  },
  {
   "cell_type": "markdown",
   "metadata": {},
   "source": [
    "---\n",
    "- Use scipy.stats for this.\n",
    "- A fancy list comprehension or the itertools module can help you find all the possible combinations.\n",
    "- Consider storing the results of your calculations in a data frame."
   ]
  },
  {
   "cell_type": "code",
   "execution_count": 13,
   "metadata": {},
   "outputs": [],
   "source": [
    "# Probabilities (p, will stay): 70, 80, 90%\n",
    "# Subjects needed(n):           10, 20\n",
    "# People leave:                 n*.5, 1, 0\n",
    "\n",
    "#biomial distrubution: stats.binom(n, p).method(% or value of successes)\n",
    "\n",
    "from scipy import stats\n",
    "from scipy.stats import binom\n",
    "\n",
    "import numpy as np\n",
    "import pandas as pd\n",
    "\n",
    "import matplotlib.pyplot as plt"
   ]
  },
  {
   "cell_type": "code",
   "execution_count": 7,
   "metadata": {},
   "outputs": [
    {
     "name": "stdout",
     "output_type": "stream",
     "text": [
      "0.9526510126\n",
      "0.9936306176\n",
      "0.9998530974\n",
      "0.9828551835687416\n",
      "0.9994365863023398\n",
      "0.9999992911393668\n"
     ]
    }
   ],
   "source": [
    "# HALF STAY (>= 5 stay, >= 10 stay)\n",
    "print(stats.binom(10, .7).sf(4))\n",
    "print(stats.binom(10, .8).sf(4))\n",
    "print(stats.binom(10, .9).sf(4))\n",
    "\n",
    "print(stats.binom(20, .7).sf(9))\n",
    "print(stats.binom(20, .8).sf(9))\n",
    "print(stats.binom(20, .9).sf(9))"
   ]
  },
  {
   "cell_type": "code",
   "execution_count": 10,
   "metadata": {},
   "outputs": [
    {
     "name": "stdout",
     "output_type": "stream",
     "text": [
      "0.12106082100000007\n",
      "0.26843545600000035\n",
      "0.38742048900000037\n",
      "0.006839337111223874\n",
      "0.05764607523034236\n",
      "0.27017034353459823\n"
     ]
    }
   ],
   "source": [
    "# 1 LEAVES (= 9 stay, = 19 stay)\n",
    "print(stats.binom(10, .7).pmf(9))\n",
    "print(stats.binom(10, .8).pmf(9))\n",
    "print(stats.binom(10, .9).pmf(9))\n",
    "\n",
    "print(stats.binom(20, .7).pmf(19))\n",
    "print(stats.binom(20, .8).pmf(19))\n",
    "print(stats.binom(20, .9).pmf(19))"
   ]
  },
  {
   "cell_type": "code",
   "execution_count": 11,
   "metadata": {},
   "outputs": [
    {
     "name": "stdout",
     "output_type": "stream",
     "text": [
      "0.02824752489999998\n",
      "0.10737418240000005\n",
      "0.34867844010000004\n",
      "0.0007979226629761189\n",
      "0.011529215046068481\n",
      "0.12157665459056931\n"
     ]
    }
   ],
   "source": [
    "# ALL STAY (10 stay, 20 stay)\n",
    "print(stats.binom(10, .7).pmf(10))\n",
    "print(stats.binom(10, .8).pmf(10))\n",
    "print(stats.binom(10, .9).pmf(10))\n",
    "\n",
    "print(stats.binom(20, .7).pmf(20))\n",
    "print(stats.binom(20, .8).pmf(20))\n",
    "print(stats.binom(20, .9).pmf(20))"
   ]
  },
  {
   "cell_type": "code",
   "execution_count": 16,
   "metadata": {},
   "outputs": [
    {
     "data": {
      "text/html": [
       "<div>\n",
       "<style scoped>\n",
       "    .dataframe tbody tr th:only-of-type {\n",
       "        vertical-align: middle;\n",
       "    }\n",
       "\n",
       "    .dataframe tbody tr th {\n",
       "        vertical-align: top;\n",
       "    }\n",
       "\n",
       "    .dataframe thead th {\n",
       "        text-align: right;\n",
       "    }\n",
       "</style>\n",
       "<table border=\"1\" class=\"dataframe\">\n",
       "  <thead>\n",
       "    <tr style=\"text-align: right;\">\n",
       "      <th></th>\n",
       "      <th>Half Stay</th>\n",
       "      <th>One Leaves</th>\n",
       "      <th>None Leave</th>\n",
       "    </tr>\n",
       "  </thead>\n",
       "  <tbody>\n",
       "    <tr>\n",
       "      <th>70%</th>\n",
       "      <td>NaN</td>\n",
       "      <td>NaN</td>\n",
       "      <td>NaN</td>\n",
       "    </tr>\n",
       "    <tr>\n",
       "      <th>80%</th>\n",
       "      <td>NaN</td>\n",
       "      <td>NaN</td>\n",
       "      <td>NaN</td>\n",
       "    </tr>\n",
       "    <tr>\n",
       "      <th>90%</th>\n",
       "      <td>NaN</td>\n",
       "      <td>NaN</td>\n",
       "      <td>NaN</td>\n",
       "    </tr>\n",
       "  </tbody>\n",
       "</table>\n",
       "</div>"
      ],
      "text/plain": [
       "    Half Stay One Leaves None Leave\n",
       "70%       NaN        NaN        NaN\n",
       "80%       NaN        NaN        NaN\n",
       "90%       NaN        NaN        NaN"
      ]
     },
     "execution_count": 16,
     "metadata": {},
     "output_type": "execute_result"
    }
   ],
   "source": [
    "stats.binom(10, .7).sf(4), \n",
    "stats.binom(10, .8).sf(4), \n",
    "stats.binom(10, .9).sf(4),\n",
    "\n",
    "\n",
    "pd.DataFrame(data=[index=['10, 70%', '10, 80%', '10, 90%', '20, 70%', '20, 80%', '20, 90%'],columns=['Half Stay', 'One Leaves', 'None Leave'])"
   ]
  },
  {
   "cell_type": "code",
   "execution_count": null,
   "metadata": {},
   "outputs": [],
   "source": [
    "ps = [.7, .8, .9]\n",
    "ns = [10, 20]\n",
    "ks = range(21)\n",
    "cdfs = stats.binom(n,p).cdf(k) for p, n, k in it.product(ps, ns, ks)\n",
    "df = pd.DataFrame(cdfs, columns=['p', 'n', 'k', 'cdf(s)']\n",
    "df"
   ]
  }
 ],
 "metadata": {
  "kernelspec": {
   "display_name": "Python 3",
   "language": "python",
   "name": "python3"
  },
  "language_info": {
   "codemirror_mode": {
    "name": "ipython",
    "version": 3
   },
   "file_extension": ".py",
   "mimetype": "text/x-python",
   "name": "python",
   "nbconvert_exporter": "python",
   "pygments_lexer": "ipython3",
   "version": "3.7.6"
  }
 },
 "nbformat": 4,
 "nbformat_minor": 4
}
